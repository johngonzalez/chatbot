{
 "cells": [
  {
   "cell_type": "markdown",
   "metadata": {},
   "source": [
    "# Análisis interacciones\n",
    "\n",
    "En seguida se realizará un análisis de las interacciones entre la IA y el humano. Los datos se descargan de dynamodb en formato csv."
   ]
  },
  {
   "cell_type": "code",
   "execution_count": 1,
   "metadata": {},
   "outputs": [],
   "source": [
    "import pandas as pd\n",
    "import tiktoken\n",
    "\n",
    "def get_num_tokens(string: str, encoding_name: str='cl100k_base') -> int:\n",
    "    encoding = tiktoken.get_encoding(encoding_name)\n",
    "    num_tokens = len(encoding.encode(string))\n",
    "    return num_tokens\n"
   ]
  },
  {
   "cell_type": "code",
   "execution_count": 2,
   "metadata": {},
   "outputs": [
    {
     "data": {
      "text/html": [
       "<div>\n",
       "<style scoped>\n",
       "    .dataframe tbody tr th:only-of-type {\n",
       "        vertical-align: middle;\n",
       "    }\n",
       "\n",
       "    .dataframe tbody tr th {\n",
       "        vertical-align: top;\n",
       "    }\n",
       "\n",
       "    .dataframe thead th {\n",
       "        text-align: right;\n",
       "    }\n",
       "</style>\n",
       "<table border=\"1\" class=\"dataframe\">\n",
       "  <thead>\n",
       "    <tr style=\"text-align: right;\">\n",
       "      <th></th>\n",
       "      <th>id</th>\n",
       "      <th>session_id</th>\n",
       "      <th>datetime</th>\n",
       "      <th>sender</th>\n",
       "      <th>text</th>\n",
       "      <th>tokens</th>\n",
       "    </tr>\n",
       "  </thead>\n",
       "  <tbody>\n",
       "    <tr>\n",
       "      <th>0</th>\n",
       "      <td>1efec97b-7686-493d-bdf0-9c3c1c35778a</td>\n",
       "      <td>D05J8ASFBL2</td>\n",
       "      <td>2023-07-21T20:01:31.677379</td>\n",
       "      <td>user</td>\n",
       "      <td>¿Cuanto me costaria un soat para una Nivus?</td>\n",
       "      <td>15</td>\n",
       "    </tr>\n",
       "    <tr>\n",
       "      <th>1</th>\n",
       "      <td>fe2254cd-3d27-400a-a85a-018fe724c14d</td>\n",
       "      <td>D05JXPM7DK2</td>\n",
       "      <td>2023-07-21T19:21:18.159311</td>\n",
       "      <td>ai</td>\n",
       "      <td>\"Hola, ¿en qué puedo ayudarte hoy?\"</td>\n",
       "      <td>11</td>\n",
       "    </tr>\n",
       "    <tr>\n",
       "      <th>2</th>\n",
       "      <td>6af697d7-0374-428e-916b-c3c026eb57ce</td>\n",
       "      <td>d8d56e8f-bb15-4364-ae19-ba892ca09acc</td>\n",
       "      <td>2023-07-11T22:44:21.187296</td>\n",
       "      <td>user</td>\n",
       "      <td>Que beneficios flexibles hay</td>\n",
       "      <td>6</td>\n",
       "    </tr>\n",
       "    <tr>\n",
       "      <th>3</th>\n",
       "      <td>a4461223-c515-4b6a-8636-be59870a5815</td>\n",
       "      <td>1e9abe14-d160-408b-8120-3026e4b9609c</td>\n",
       "      <td>2023-07-17T21:29:30.851444</td>\n",
       "      <td>ai</td>\n",
       "      <td>\"Compensar es una entidad promotora de salud (...</td>\n",
       "      <td>112</td>\n",
       "    </tr>\n",
       "    <tr>\n",
       "      <th>4</th>\n",
       "      <td>2b4e58a6-c51f-4d9a-be21-a8613e5e7d73</td>\n",
       "      <td>D05H1M3HR5E</td>\n",
       "      <td>2023-07-19T04:52:59.717105</td>\n",
       "      <td>user</td>\n",
       "      <td>Tengo beneficios para mi mascota?</td>\n",
       "      <td>9</td>\n",
       "    </tr>\n",
       "    <tr>\n",
       "      <th>...</th>\n",
       "      <td>...</td>\n",
       "      <td>...</td>\n",
       "      <td>...</td>\n",
       "      <td>...</td>\n",
       "      <td>...</td>\n",
       "      <td>...</td>\n",
       "    </tr>\n",
       "    <tr>\n",
       "      <th>1723</th>\n",
       "      <td>97eccbda-8ea6-4cfa-9e1a-f4558583acbe</td>\n",
       "      <td>D05H1M3HR5E</td>\n",
       "      <td>2023-07-19T04:22:52.525053</td>\n",
       "      <td>ai</td>\n",
       "      <td>\"¡Claro! Para conocer tus beneficios de prepag...</td>\n",
       "      <td>81</td>\n",
       "    </tr>\n",
       "    <tr>\n",
       "      <th>1724</th>\n",
       "      <td>d11c02cc-a6b9-4b54-8861-b895f88c6630</td>\n",
       "      <td>c959e442-2cf6-44ed-882c-cc669d7b7640</td>\n",
       "      <td>2023-07-11T12:52:37.352364</td>\n",
       "      <td>user</td>\n",
       "      <td>Pregunta: Cuales son los beneficios fijos</td>\n",
       "      <td>12</td>\n",
       "    </tr>\n",
       "    <tr>\n",
       "      <th>1725</th>\n",
       "      <td>6eea4fe8-fe80-445b-b3cd-bcb761dacb27</td>\n",
       "      <td>D05H3FWP1EE</td>\n",
       "      <td>2023-07-26T15:03:58.410251</td>\n",
       "      <td>user</td>\n",
       "      <td>cual de los dos planes es mejor ?</td>\n",
       "      <td>9</td>\n",
       "    </tr>\n",
       "    <tr>\n",
       "      <th>1726</th>\n",
       "      <td>0df5d579-dc76-4e4e-b449-e3d67479e11f</td>\n",
       "      <td>8856d899-1b7b-4bd3-a2a2-74ca200874a4</td>\n",
       "      <td>2023-07-17T21:04:17.473019</td>\n",
       "      <td>ai</td>\n",
       "      <td>\"Los beneficios se pueden modificar en dos mom...</td>\n",
       "      <td>77</td>\n",
       "    </tr>\n",
       "    <tr>\n",
       "      <th>1727</th>\n",
       "      <td>0987f950-66f9-40c1-9eb2-6de74ce0c1e9</td>\n",
       "      <td>D05JXPM7DK2</td>\n",
       "      <td>2023-07-25T19:58:05.146357</td>\n",
       "      <td>user</td>\n",
       "      <td>tengo un quebranto de salud a donde puedo asistir</td>\n",
       "      <td>14</td>\n",
       "    </tr>\n",
       "  </tbody>\n",
       "</table>\n",
       "<p>1728 rows × 6 columns</p>\n",
       "</div>"
      ],
      "text/plain": [
       "                                        id  \\\n",
       "0     1efec97b-7686-493d-bdf0-9c3c1c35778a   \n",
       "1     fe2254cd-3d27-400a-a85a-018fe724c14d   \n",
       "2     6af697d7-0374-428e-916b-c3c026eb57ce   \n",
       "3     a4461223-c515-4b6a-8636-be59870a5815   \n",
       "4     2b4e58a6-c51f-4d9a-be21-a8613e5e7d73   \n",
       "...                                    ...   \n",
       "1723  97eccbda-8ea6-4cfa-9e1a-f4558583acbe   \n",
       "1724  d11c02cc-a6b9-4b54-8861-b895f88c6630   \n",
       "1725  6eea4fe8-fe80-445b-b3cd-bcb761dacb27   \n",
       "1726  0df5d579-dc76-4e4e-b449-e3d67479e11f   \n",
       "1727  0987f950-66f9-40c1-9eb2-6de74ce0c1e9   \n",
       "\n",
       "                                session_id                    datetime sender  \\\n",
       "0                              D05J8ASFBL2  2023-07-21T20:01:31.677379   user   \n",
       "1                              D05JXPM7DK2  2023-07-21T19:21:18.159311     ai   \n",
       "2     d8d56e8f-bb15-4364-ae19-ba892ca09acc  2023-07-11T22:44:21.187296   user   \n",
       "3     1e9abe14-d160-408b-8120-3026e4b9609c  2023-07-17T21:29:30.851444     ai   \n",
       "4                              D05H1M3HR5E  2023-07-19T04:52:59.717105   user   \n",
       "...                                    ...                         ...    ...   \n",
       "1723                           D05H1M3HR5E  2023-07-19T04:22:52.525053     ai   \n",
       "1724  c959e442-2cf6-44ed-882c-cc669d7b7640  2023-07-11T12:52:37.352364   user   \n",
       "1725                           D05H3FWP1EE  2023-07-26T15:03:58.410251   user   \n",
       "1726  8856d899-1b7b-4bd3-a2a2-74ca200874a4  2023-07-17T21:04:17.473019     ai   \n",
       "1727                           D05JXPM7DK2  2023-07-25T19:58:05.146357   user   \n",
       "\n",
       "                                                   text  tokens  \n",
       "0           ¿Cuanto me costaria un soat para una Nivus?      15  \n",
       "1                   \"Hola, ¿en qué puedo ayudarte hoy?\"      11  \n",
       "2                          Que beneficios flexibles hay       6  \n",
       "3     \"Compensar es una entidad promotora de salud (...     112  \n",
       "4                     Tengo beneficios para mi mascota?       9  \n",
       "...                                                 ...     ...  \n",
       "1723  \"¡Claro! Para conocer tus beneficios de prepag...      81  \n",
       "1724          Pregunta: Cuales son los beneficios fijos      12  \n",
       "1725                  cual de los dos planes es mejor ?       9  \n",
       "1726  \"Los beneficios se pueden modificar en dos mom...      77  \n",
       "1727  tengo un quebranto de salud a donde puedo asistir      14  \n",
       "\n",
       "[1728 rows x 6 columns]"
      ]
     },
     "execution_count": 2,
     "metadata": {},
     "output_type": "execute_result"
    }
   ],
   "source": [
    "interacciones_df = pd.read_csv('interacciones.csv')\n",
    "interacciones_df['tokens'] = interacciones_df['text'].apply(lambda txt: get_num_tokens(txt))\n",
    "interacciones_df"
   ]
  },
  {
   "cell_type": "code",
   "execution_count": 7,
   "metadata": {},
   "outputs": [
    {
     "name": "stdout",
     "output_type": "stream",
     "text": [
      "cantidad de conversaciones 186\n"
     ]
    }
   ],
   "source": [
    "print('cantidad de conversaciones', len(interacciones_df['session_id'].unique()))"
   ]
  },
  {
   "cell_type": "code",
   "execution_count": 51,
   "metadata": {},
   "outputs": [
    {
     "data": {
      "text/plain": [
       "Text(0, 0.5, 'Cantidad de conversaciones')"
      ]
     },
     "execution_count": 51,
     "metadata": {},
     "output_type": "execute_result"
    },
    {
     "data": {
      "image/png": "[encoded data removed]",
      "text/plain": [
       "<Figure size 640x480 with 1 Axes>"
      ]
     },
     "metadata": {},
     "output_type": "display_data"
    }
   ],
   "source": [
    "import matplotlib.pyplot as plt\n",
    "interacciones_df.groupby(['session_id']).sum()['tokens'].plot.hist()\n",
    "plt.xlabel('cantidad de tokens por converación')\n",
    "plt.ylabel('Cantidad de conversaciones')"
   ]
  },
  {
   "cell_type": "code",
   "execution_count": 13,
   "metadata": {},
   "outputs": [
    {
     "data": {
      "text/plain": [
       "session_id\n",
       "D05JLP4TSN5                             5944\n",
       "D05JXPM7DK2                             5944\n",
       "D05JH0Z2PAL                             5217\n",
       "D05H1M3HR5E                             4638\n",
       "D05H3FWP1EE                             4073\n",
       "D05JLUTGW0Z                             3064\n",
       "D05JLPDPY2D                             3028\n",
       "4f6fd44c-8539-402d-ab81-9662ce9b84cc    1980\n",
       "def973cd-9dc7-42f1-bd0d-9803e1b09e30    1444\n",
       "D05J811TZ6X                             1442\n",
       "1f7e1832-a8d8-4793-b383-4bdfa57bbe2a    1301\n",
       "fd16ce6e-7c83-435e-9f16-da1eec3bbfce    1245\n",
       "cc64fdbe-c801-48ba-9127-31a670ee2313    1195\n",
       "D05JTPX4H8R                             1190\n",
       "D05JAPS9RV2                             1181\n",
       "Name: tokens, dtype: int64"
      ]
     },
     "execution_count": 13,
     "metadata": {},
     "output_type": "execute_result"
    }
   ],
   "source": [
    "interacciones_df.groupby(['session_id']).sum()['tokens'].sort_values(ascending=False).head(15)"
   ]
  },
  {
   "cell_type": "code",
   "execution_count": 14,
   "metadata": {},
   "outputs": [
    {
     "data": {
      "text/html": [
       "<div>\n",
       "<style scoped>\n",
       "    .dataframe tbody tr th:only-of-type {\n",
       "        vertical-align: middle;\n",
       "    }\n",
       "\n",
       "    .dataframe tbody tr th {\n",
       "        vertical-align: top;\n",
       "    }\n",
       "\n",
       "    .dataframe thead th {\n",
       "        text-align: right;\n",
       "    }\n",
       "</style>\n",
       "<table border=\"1\" class=\"dataframe\">\n",
       "  <thead>\n",
       "    <tr style=\"text-align: right;\">\n",
       "      <th></th>\n",
       "      <th>id</th>\n",
       "      <th>session_id</th>\n",
       "      <th>datetime</th>\n",
       "      <th>sender</th>\n",
       "      <th>text</th>\n",
       "      <th>tokens</th>\n",
       "    </tr>\n",
       "  </thead>\n",
       "  <tbody>\n",
       "    <tr>\n",
       "      <th>1247</th>\n",
       "      <td>96aa6c1f-a633-40a2-8dfa-7235ec7fc251</td>\n",
       "      <td>D05JTPX4H8R</td>\n",
       "      <td>2023-07-24T13:20:01.353043</td>\n",
       "      <td>system</td>\n",
       "      <td>\"Tu nombre es Linguo. Actúas como un asesor de...</td>\n",
       "      <td>115</td>\n",
       "    </tr>\n",
       "    <tr>\n",
       "      <th>1406</th>\n",
       "      <td>c7e0c24f-14a4-478d-9fe5-1432d39a2666</td>\n",
       "      <td>D05JTPX4H8R</td>\n",
       "      <td>2023-07-24T13:20:01.353043</td>\n",
       "      <td>user</td>\n",
       "      <td>\"hola, cómo estás? sabes que debo hacer si mi ...</td>\n",
       "      <td>29</td>\n",
       "    </tr>\n",
       "    <tr>\n",
       "      <th>947</th>\n",
       "      <td>d66633f5-1dc3-474a-a011-839b3df6db04</td>\n",
       "      <td>D05JTPX4H8R</td>\n",
       "      <td>2023-07-24T13:20:14.657582</td>\n",
       "      <td>ai</td>\n",
       "      <td>\"Hola, estoy aquí para ayudarte. Si tu tarjeta...</td>\n",
       "      <td>336</td>\n",
       "    </tr>\n",
       "    <tr>\n",
       "      <th>1316</th>\n",
       "      <td>9d2e785b-b919-40cc-8e93-8aa0176494ca</td>\n",
       "      <td>D05JTPX4H8R</td>\n",
       "      <td>2023-07-24T13:21:08.083857</td>\n",
       "      <td>user</td>\n",
       "      <td>\"son establecimientos aliados, pero los datafo...</td>\n",
       "      <td>34</td>\n",
       "    </tr>\n",
       "    <tr>\n",
       "      <th>1606</th>\n",
       "      <td>f1f39a43-ec55-4443-ab14-aa972c3cd911</td>\n",
       "      <td>D05JTPX4H8R</td>\n",
       "      <td>2023-07-24T13:21:22.014065</td>\n",
       "      <td>ai</td>\n",
       "      <td>\"Lamento escuchar que estás teniendo problemas...</td>\n",
       "      <td>352</td>\n",
       "    </tr>\n",
       "    <tr>\n",
       "      <th>1460</th>\n",
       "      <td>fdce84eb-bc16-4864-a41a-49b46890b751</td>\n",
       "      <td>D05JTPX4H8R</td>\n",
       "      <td>2023-07-24T13:22:30.427180</td>\n",
       "      <td>user</td>\n",
       "      <td>como puedo solicitar una nueva tarjeta sodexo ...</td>\n",
       "      <td>19</td>\n",
       "    </tr>\n",
       "    <tr>\n",
       "      <th>576</th>\n",
       "      <td>f4b63893-dc92-4d37-a0d0-536873af7248</td>\n",
       "      <td>D05JTPX4H8R</td>\n",
       "      <td>2023-07-24T13:22:41.129298</td>\n",
       "      <td>ai</td>\n",
       "      <td>\"Si necesitas solicitar una nueva tarjeta Sode...</td>\n",
       "      <td>305</td>\n",
       "    </tr>\n",
       "  </tbody>\n",
       "</table>\n",
       "</div>"
      ],
      "text/plain": [
       "                                        id   session_id  \\\n",
       "1247  96aa6c1f-a633-40a2-8dfa-7235ec7fc251  D05JTPX4H8R   \n",
       "1406  c7e0c24f-14a4-478d-9fe5-1432d39a2666  D05JTPX4H8R   \n",
       "947   d66633f5-1dc3-474a-a011-839b3df6db04  D05JTPX4H8R   \n",
       "1316  9d2e785b-b919-40cc-8e93-8aa0176494ca  D05JTPX4H8R   \n",
       "1606  f1f39a43-ec55-4443-ab14-aa972c3cd911  D05JTPX4H8R   \n",
       "1460  fdce84eb-bc16-4864-a41a-49b46890b751  D05JTPX4H8R   \n",
       "576   f4b63893-dc92-4d37-a0d0-536873af7248  D05JTPX4H8R   \n",
       "\n",
       "                        datetime  sender  \\\n",
       "1247  2023-07-24T13:20:01.353043  system   \n",
       "1406  2023-07-24T13:20:01.353043    user   \n",
       "947   2023-07-24T13:20:14.657582      ai   \n",
       "1316  2023-07-24T13:21:08.083857    user   \n",
       "1606  2023-07-24T13:21:22.014065      ai   \n",
       "1460  2023-07-24T13:22:30.427180    user   \n",
       "576   2023-07-24T13:22:41.129298      ai   \n",
       "\n",
       "                                                   text  tokens  \n",
       "1247  \"Tu nombre es Linguo. Actúas como un asesor de...     115  \n",
       "1406  \"hola, cómo estás? sabes que debo hacer si mi ...      29  \n",
       "947   \"Hola, estoy aquí para ayudarte. Si tu tarjeta...     336  \n",
       "1316  \"son establecimientos aliados, pero los datafo...      34  \n",
       "1606  \"Lamento escuchar que estás teniendo problemas...     352  \n",
       "1460  como puedo solicitar una nueva tarjeta sodexo ...      19  \n",
       "576   \"Si necesitas solicitar una nueva tarjeta Sode...     305  "
      ]
     },
     "execution_count": 14,
     "metadata": {},
     "output_type": "execute_result"
    }
   ],
   "source": [
    "# Tomemos la sesión 1\n",
    "filtro = interacciones_df['session_id'] == 'D05JTPX4H8R'\n",
    "\n",
    "interacciones_df[filtro].sort_values(by='datetime')"
   ]
  },
  {
   "cell_type": "code",
   "execution_count": 21,
   "metadata": {},
   "outputs": [],
   "source": [
    "# eliminemos conversaciones con más de 2k tokens\n",
    "interacciones_df_grouped = interacciones_df.groupby('session_id').sum()\n",
    "filtro = interacciones_df_grouped['tokens'] < 2000\n",
    "filtro_session_id = interacciones_df_grouped[filtro].index\n",
    "interacciones_df_filtrado = interacciones_df[interacciones_df['session_id'].isin(filtro_session_id)]\n",
    "# filtro = interacciones_df['session_id'] == 'D05JTPX4H8R'"
   ]
  },
  {
   "cell_type": "code",
   "execution_count": 26,
   "metadata": {},
   "outputs": [
    {
     "name": "stdout",
     "output_type": "stream",
     "text": [
      "Promedio de tokens por conversación (sin tener en cuenta el contexto) 481.4413407821229\n"
     ]
    }
   ],
   "source": [
    "# tomemos la mediana\n",
    "tokens_media = interacciones_df_filtrado.groupby(['session_id']).sum()['tokens'].mean()\n",
    "print(\n",
    "    'Promedio de tokens por conversación (sin tener en cuenta el contexto)',\n",
    "    tokens_media\n",
    ")"
   ]
  },
  {
   "cell_type": "code",
   "execution_count": 36,
   "metadata": {},
   "outputs": [
    {
     "name": "stdout",
     "output_type": "stream",
     "text": [
      "Promedio de tokens por conversación (sin tener en cuenta el contexto, ni system) 304.4189944134078\n"
     ]
    }
   ],
   "source": [
    "filtro = interacciones_df_filtrado['sender'] != 'system'\n",
    "interacciones_df_filtrado[filtro]\n",
    "\n",
    "tokens_media_sin_system = interacciones_df_filtrado[filtro].groupby(['session_id']).sum()['tokens'].mean()\n",
    "print(\n",
    "    'Promedio de tokens por conversación (sin tener en cuenta el contexto, ni system)',\n",
    "    tokens_media_sin_system\n",
    ")"
   ]
  },
  {
   "cell_type": "code",
   "execution_count": 37,
   "metadata": {},
   "outputs": [
    {
     "data": {
      "text/plain": [
       "405.8919925512104"
      ]
     },
     "execution_count": 37,
     "metadata": {},
     "output_type": "execute_result"
    }
   ],
   "source": [
    "palabras_media_aprox = tokens_media_sin_system*4/3\n",
    "palabras_media_aprox"
   ]
  },
  {
   "cell_type": "code",
   "execution_count": 47,
   "metadata": {},
   "outputs": [
    {
     "name": "stdout",
     "output_type": "stream",
     "text": [
      "Cantidad de envíos de usuario en promedio por cada conversación: 3.1620111731843576\n",
      "Cantidad de tokens de contexto aprox: 2415.776536312849\n"
     ]
    }
   ],
   "source": [
    "filtro = interacciones_df_filtrado['sender'] == 'user'\n",
    "\n",
    "envios_usuario_mean = interacciones_df_filtrado[filtro].groupby('session_id').count()['id'].mean()\n",
    "print(\n",
    "    'Cantidad de envíos de usuario en promedio por cada conversación:',\n",
    "    envios_usuario_mean\n",
    ")\n",
    "\n",
    "# El valor 191 es la cantidad de tokens en promedio por documento (ver notebook get_embeddings.ipynb)\n",
    "# Cada vez que un usuario envía un mns se procura enviar 4 documentos como contexto\n",
    "\n",
    "tokens_por_contexto = 191 * envios_usuario_mean * 4\n",
    "print(\n",
    "    'Cantidad de tokens de contexto aprox:',\n",
    "    tokens_por_contexto\n",
    ")\n",
    "    "
   ]
  },
  {
   "cell_type": "code",
   "execution_count": 48,
   "metadata": {},
   "outputs": [
    {
     "name": "stdout",
     "output_type": "stream",
     "text": [
      "Cantidad de tokens promedio por conversación: 2897.217877094972\n"
     ]
    }
   ],
   "source": [
    "print(\n",
    "    'Cantidad de tokens promedio por conversación:',\n",
    "    tokens_media + tokens_por_contexto\n",
    ")"
   ]
  },
  {
   "cell_type": "code",
   "execution_count": 49,
   "metadata": {},
   "outputs": [
    {
     "name": "stdout",
     "output_type": "stream",
     "text": [
      "precio conversación (sin tener en cuenta contexto) 23.177743016759777\n"
     ]
    }
   ],
   "source": [
    "print(\n",
    "    'precio conversación (sin tener en cuenta contexto)',\n",
    "    (tokens_media + tokens_por_contexto) * 0.002 / 1000 * 4000\n",
    ")"
   ]
  }
 ],
 "metadata": {
  "kernelspec": {
   "display_name": "env_ben",
   "language": "python",
   "name": "python3"
  },
  "language_info": {
   "codemirror_mode": {
    "name": "ipython",
    "version": 3
   },
   "file_extension": ".py",
   "mimetype": "text/x-python",
   "name": "python",
   "nbconvert_exporter": "python",
   "pygments_lexer": "ipython3",
   "version": "3.8.5"
  },
  "orig_nbformat": 4
 },
 "nbformat": 4,
 "nbformat_minor": 2
}
