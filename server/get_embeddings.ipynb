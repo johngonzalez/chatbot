{
 "cells": [
  {
   "cell_type": "code",
   "execution_count": null,
   "metadata": {},
   "outputs": [],
   "source": [
    "from langchain.embeddings import OpenAIEmbeddings\n",
    "from langchain.vectorstores import FAISS\n",
    "from dotenv import load_dotenv\n",
    "import pandas as pd\n",
    "from langchain.chat_models import ChatOpenAI\n",
    "load_dotenv()"
   ]
  },
  {
   "cell_type": "code",
   "execution_count": null,
   "metadata": {},
   "outputs": [],
   "source": [
    "base_path = '/home/john/Proyectos/chatbot/chatbot_beneficios/server'\n",
    "db = FAISS.load_local(base_path + '/output/embeddings_faiss_index', OpenAIEmbeddings())"
   ]
  },
  {
   "cell_type": "code",
   "execution_count": null,
   "metadata": {},
   "outputs": [],
   "source": [
    "comparativo_sura_df = pd.read_csv(base_path + '/data/comparativo_sura.csv')\n",
    "comparativo_sura_df = comparativo_sura_df.drop(columns='Entidad')\n",
    "groupby_servicios = comparativo_sura_df.groupby(['Servicio'])\n",
    "servicios_dfs = {name_group[0]: group.drop(columns='Servicio') for name_group, group in groupby_servicios}\n",
    "\n",
    "title = '# Comparativo sura' \n",
    "subtitle = '## Servicio {}:'\n",
    "description = 'Descripción tabla: Coberturas Sura por el servicio {} de medicina prepagada Sura Global y Clásica'\n",
    "\n",
    "text = title\n",
    "for servicio, df in servicios_dfs.items():\n",
    "    text += (\n",
    "        '\\n\\n'\n",
    "        + subtitle.format(servicio)\n",
    "        + '\\n\\n'\n",
    "        + description.format(servicio)\n",
    "        + '\\n\\n'\n",
    "        + servicios_dfs[servicio].to_markdown(index=False)\n",
    "    )\n",
    "\n",
    "text = text.replace('|:-', '|--')\n",
    "print(text)\n",
    "\n",
    "with open(base_path + '/data/comparativo_sura.md', 'w') as f:\n",
    "    f.write(text)"
   ]
  },
  {
   "cell_type": "code",
   "execution_count": null,
   "metadata": {},
   "outputs": [],
   "source": [
    "comparativo_salud = pd.read_csv(base_path + '/data/Agente Digital - Comparativo Salud 2.csv')\n",
    "groupby_servicios = comparativo_salud.groupby(['Servicio'])\n",
    "servicios_dfs = {name_group[0]: group.drop(columns='Servicio') for name_group, group in groupby_servicios}\n",
    "\n",
    "title = '# Comparativo entidades de salud' \n",
    "subtitle = '## Servicio {}:'\n",
    "description = 'Descripción tabla: Coberturas de entidades y/o prestadores de salud por {}'\n",
    "\n",
    "text = title\n",
    "for servicio, df in servicios_dfs.items():\n",
    "    text += (\n",
    "        '\\n\\n'\n",
    "        + subtitle.format(servicio)\n",
    "        + '\\n\\n'\n",
    "        + description.format(servicio)\n",
    "        + '\\n\\n'\n",
    "        + servicios_dfs[servicio].to_markdown(index=False)\n",
    "    )\n",
    "\n",
    "text = text.replace('|:-', '|--')\n",
    "print(text)\n",
    "\n",
    "with open(base_path + '/data/comparativo_salud.md', 'w') as f:\n",
    "    f.write(text)"
   ]
  },
  {
   "cell_type": "code",
   "execution_count": null,
   "metadata": {},
   "outputs": [],
   "source": [
    "comparativo_salud = pd.read_csv(base_path + '/data/Agente Digital - Comparativo Salud 2.csv')\n",
    "# comparativo_salud = comparativo_salud.drop(columns='Entidad')\n",
    "# groupby_servicios = comparativo_salud.groupby(['Servicio'])\n",
    "# servicios_dfs = {name_group[0]: group.drop(columns='Servicio') for name_group, group in groupby_servicios}\n",
    "\n",
    "title = '# Comparativo salud' \n",
    "# subtitle = '## Servicio {}:'\n",
    "description = 'Descripción tabla: Comparativo de las opciones (planes) de salud'\n",
    "\n",
    "text = title + '\\n\\n' + description\n",
    "text += '\\n\\n' + comparativo_salud.to_markdown(index=False)\n",
    "text = text.replace('|:-', '|--')\n",
    "print(text)\n",
    "\n",
    "with open(base_path + '/data/comparativo_salud.md', 'w') as f:\n",
    "    f.write(text)"
   ]
  },
  {
   "cell_type": "code",
   "execution_count": null,
   "metadata": {},
   "outputs": [],
   "source": [
    "preguntas_frecuentes = pd.read_csv(base_path + '/data/Agente Digital - 1_Preguntas_Respuetas.csv', skiprows=1)\n",
    "filtro = preguntas_frecuentes['para_chatbot'] == 'si'\n",
    "preguntas_frecuentes = preguntas_frecuentes[filtro]\n",
    "\n",
    "title = '# Preguntas frecuentes' \n",
    "subtitle = '## Pregunta {}:'\n",
    "\n",
    "text = title\n",
    "for i, row in preguntas_frecuentes.iterrows():\n",
    "    text += (\n",
    "        '\\n\\n'\n",
    "        + subtitle.format(i+1)\n",
    "        + '\\n\\n'\n",
    "        + 'Pregunta: ' + row['Pregunta']\n",
    "        + '\\n'\n",
    "        + 'Respuesta: ' + row['Respuesta']\n",
    "    )\n",
    "\n",
    "print(text)\n",
    "\n",
    "with open(base_path + '/data/preguntas_respuestas.md', 'w') as f:\n",
    "    f.write(text)"
   ]
  },
  {
   "cell_type": "code",
   "execution_count": null,
   "metadata": {},
   "outputs": [],
   "source": [
    "docs = db.docstore.__dict__['_dict']\n",
    "\n",
    "docs = pd.DataFrame([\n",
    "    {\n",
    "        'id': id,\n",
    "        'text': doc.page_content,\n",
    "        'metadata': doc.metadata,\n",
    "        'tokens': ChatOpenAI().get_num_tokens(doc.page_content)\n",
    "    } for id, doc in docs.items()\n",
    "])\n",
    "\n",
    "docs"
   ]
  },
  {
   "cell_type": "code",
   "execution_count": null,
   "metadata": {},
   "outputs": [],
   "source": [
    "docs.sort_values(by='tokens', ascending=False).head(10)[['metadata', 'tokens']].to_dict(orient='records')"
   ]
  },
  {
   "cell_type": "code",
   "execution_count": null,
   "metadata": {},
   "outputs": [],
   "source": [
    "# $0.0001 / 1K tokens (openai.com/pricing)\n",
    "print('número de tokens:', docs.tokens.sum())\n",
    "print('precio:', round(docs.tokens.sum()/1000*0.0001*4000), 'pesos')"
   ]
  }
 ],
 "metadata": {
  "kernelspec": {
   "display_name": "env_ben",
   "language": "python",
   "name": "python3"
  },
  "language_info": {
   "codemirror_mode": {
    "name": "ipython",
    "version": 3
   },
   "file_extension": ".py",
   "mimetype": "text/x-python",
   "name": "python",
   "nbconvert_exporter": "python",
   "pygments_lexer": "ipython3",
   "version": "3.8.5"
  },
  "orig_nbformat": 4
 },
 "nbformat": 4,
 "nbformat_minor": 2
}
